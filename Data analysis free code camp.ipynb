{
 "cells": [
  {
   "cell_type": "markdown",
   "metadata": {},
   "source": [
    "Data Analysis with Python Projects "
   ]
  },
  {
   "cell_type": "markdown",
   "metadata": {},
   "source": [
    "Project 1:\n",
    "\n",
    "Create a function named calculate() in mean_var_std.py that uses Numpy to output the mean, variance, standard deviation, max, min, and sum of the rows, columns, and elements in a 3 x 3 matrix."
   ]
  },
  {
   "cell_type": "code",
   "execution_count": 43,
   "metadata": {},
   "outputs": [],
   "source": [
    "import numpy as np\n",
    "\n",
    "def calculate(list):\n",
    "    data = np.array(list).reshape((3,3))\n",
    "    mean = [[np.mean(data[0][0]), np.mean(data[0][1]),np.mean(data[0][2])],[np.mean(data[1][0]), np.mean(data[1][1]),np.mean(data[1][2])],np.mean(data)]\n",
    "    variance = [np.var(data,  axis = 0).tolist(),np.var(data,  axis = 1).tolist()]\n",
    "    std =  [np.std(data,  axis = 0).tolist(),np.std(data,  axis = 1).tolist()]\n",
    "    max = [[np.max(data[0][0]), np.max(data[0][1]),np.max(data[0][2])],[np.max(data[1][0]), np.max(data[1][1]),np.max(data[1][2])],np.max(data)]\n",
    "    min =  [[np.min(data[0][0]), np.min(data[0][1]),np.min(data[0][2])],[np.min(data[1][0]), np.min(data[1][1]),np.min(data[1][2])],np.min(data)]\n",
    "    sum =  [[np.sum(data[0][0]), np.sum(data[0][1]),np.sum(data[0][2])],[np.sum(data[1][0]), np.sum(data[1][1]),np.sum(data[1][2])],np.sum(data)]\n",
    "    calculations = [('mean',mean),('variance',variance),('standard deviation',std),('max',max),('min',min),('sum',sum)]\n",
    "    return calculations"
   ]
  },
  {
   "cell_type": "code",
   "execution_count": 44,
   "metadata": {},
   "outputs": [
    {
     "data": {
      "text/plain": [
       "[('mean', [[0.0, 1.0, 2.0], [3.0, 4.0, 5.0], 4.0]),\n",
       " ('variance',\n",
       "  [[6.0, 6.0, 6.0],\n",
       "   [0.6666666666666666, 0.6666666666666666, 0.6666666666666666]]),\n",
       " ('standard deviation',\n",
       "  [[2.449489742783178, 2.449489742783178, 2.449489742783178],\n",
       "   [0.816496580927726, 0.816496580927726, 0.816496580927726]]),\n",
       " ('max', [[0, 1, 2], [3, 4, 5], 8]),\n",
       " ('min', [[0, 1, 2], [3, 4, 5], 0]),\n",
       " ('sum', [[0, 1, 2], [3, 4, 5], 36])]"
      ]
     },
     "execution_count": 44,
     "metadata": {},
     "output_type": "execute_result"
    }
   ],
   "source": [
    "calculate([0,1,2,3,4,5,6,7,8])\n"
   ]
  },
  {
   "cell_type": "code",
   "execution_count": null,
   "metadata": {},
   "outputs": [],
   "source": []
  }
 ],
 "metadata": {
  "kernelspec": {
   "display_name": "Python 3",
   "language": "python",
   "name": "python3"
  },
  "language_info": {
   "codemirror_mode": {
    "name": "ipython",
    "version": 3
   },
   "file_extension": ".py",
   "mimetype": "text/x-python",
   "name": "python",
   "nbconvert_exporter": "python",
   "pygments_lexer": "ipython3",
   "version": "3.7.6"
  }
 },
 "nbformat": 4,
 "nbformat_minor": 4
}
